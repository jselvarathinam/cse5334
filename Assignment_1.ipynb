{
  "nbformat": 4,
  "nbformat_minor": 0,
  "metadata": {
    "colab": {
      "provenance": [],
      "collapsed_sections": [
        "SVLt6Xgzuvbo"
      ],
      "authorship_tag": "ABX9TyNFL0J6eU2Gol3YFkbPRlFb",
      "include_colab_link": true
    },
    "kernelspec": {
      "name": "python3",
      "display_name": "Python 3"
    },
    "language_info": {
      "name": "python"
    }
  },
  "cells": [
    {
      "cell_type": "markdown",
      "metadata": {
        "id": "view-in-github",
        "colab_type": "text"
      },
      "source": [
        "<a href=\"https://colab.research.google.com/github/jselvarathinam/cse5334/blob/main/Assignment_1.ipynb\" target=\"_parent\"><img src=\"https://colab.research.google.com/assets/colab-badge.svg\" alt=\"Open In Colab\"/></a>"
      ]
    },
    {
      "cell_type": "markdown",
      "source": [
        "# Uploading Images of Motorbikes/Schooners/Airplanes\n"
      ],
      "metadata": {
        "id": "eC7FRzU6nawS"
      }
    },
    {
      "cell_type": "code",
      "source": [
        "! pip install kaggle"
      ],
      "metadata": {
        "colab": {
          "base_uri": "https://localhost:8080/"
        },
        "id": "0iUuIjltFNke",
        "outputId": "8dd248bb-2874-49c4-baf7-edb619967fdb"
      },
      "execution_count": 1,
      "outputs": [
        {
          "output_type": "stream",
          "name": "stdout",
          "text": [
            "Looking in indexes: https://pypi.org/simple, https://us-python.pkg.dev/colab-wheels/public/simple/\n",
            "Requirement already satisfied: kaggle in /usr/local/lib/python3.7/dist-packages (1.5.12)\n",
            "Requirement already satisfied: six>=1.10 in /usr/local/lib/python3.7/dist-packages (from kaggle) (1.15.0)\n",
            "Requirement already satisfied: certifi in /usr/local/lib/python3.7/dist-packages (from kaggle) (2022.9.24)\n",
            "Requirement already satisfied: requests in /usr/local/lib/python3.7/dist-packages (from kaggle) (2.23.0)\n",
            "Requirement already satisfied: python-dateutil in /usr/local/lib/python3.7/dist-packages (from kaggle) (2.8.2)\n",
            "Requirement already satisfied: tqdm in /usr/local/lib/python3.7/dist-packages (from kaggle) (4.64.1)\n",
            "Requirement already satisfied: urllib3 in /usr/local/lib/python3.7/dist-packages (from kaggle) (1.24.3)\n",
            "Requirement already satisfied: python-slugify in /usr/local/lib/python3.7/dist-packages (from kaggle) (6.1.2)\n",
            "Requirement already satisfied: text-unidecode>=1.3 in /usr/local/lib/python3.7/dist-packages (from python-slugify->kaggle) (1.3)\n",
            "Requirement already satisfied: idna<3,>=2.5 in /usr/local/lib/python3.7/dist-packages (from requests->kaggle) (2.10)\n",
            "Requirement already satisfied: chardet<4,>=3.0.2 in /usr/local/lib/python3.7/dist-packages (from requests->kaggle) (3.0.4)\n"
          ]
        }
      ]
    },
    {
      "cell_type": "code",
      "source": [
        "#Importing Necessary packages\n",
        "import os\n",
        "import tensorflow as tf\n",
        "import random\n",
        "from tensorflow.keras.optimizers import RMSprop\n",
        "from tensorflow.keras.preprocessing.image import ImageDataGenerator\n",
        "from shutil import copyfile\n",
        "import zipfile\n",
        "import matplotlib.image  as mpimg\n",
        "import matplotlib.pyplot as plt\n",
        "import pandas as pd\n",
        "import numpy as np\n",
        "import os, shutil, math, cv2, json, random\n",
        "from tqdm import tqdm\n",
        "from keras.layers import *\n",
        "from sklearn.metrics import accuracy_score, precision_recall_fscore_support, f1_score, classification_report, confusion_matrix\n",
        "from sklearn.model_selection import train_test_split"
      ],
      "metadata": {
        "id": "p6xxmkLfKXDi"
      },
      "execution_count": 37,
      "outputs": []
    },
    {
      "cell_type": "code",
      "source": [
        "#Mounting google drive\n",
        "from google.colab import drive\n",
        "drive.mount('/content/drive')"
      ],
      "metadata": {
        "colab": {
          "base_uri": "https://localhost:8080/"
        },
        "id": "cPnMayxphBPf",
        "outputId": "222a7a7e-b125-4c33-9514-42fc79001ab3"
      },
      "execution_count": 3,
      "outputs": [
        {
          "output_type": "stream",
          "name": "stdout",
          "text": [
            "Mounted at /content/drive\n"
          ]
        }
      ]
    },
    {
      "cell_type": "code",
      "source": [
        "\"\"\"\n",
        "The following four cells make a kaggle directory in this workspace and download the caltech101 dataset into it.\n",
        "I learned how to do this from the following youtube tutorial: https://www.youtube.com/watch?v=yEXkEUqK52Q. I think \n",
        "this code is fairly common but I wanted to include a reference just in case.\n",
        "\"\"\"\n",
        "! mkdir ~/.kaggle"
      ],
      "metadata": {
        "id": "KvWCwPLkFxeV"
      },
      "execution_count": 4,
      "outputs": []
    },
    {
      "cell_type": "code",
      "source": [
        "! cp /content/drive/MyDrive/ColabNotebooks/kaggle.json ~/.kaggle/kaggle.json"
      ],
      "metadata": {
        "id": "GqAiaGwSGNLd"
      },
      "execution_count": 5,
      "outputs": []
    },
    {
      "cell_type": "code",
      "source": [
        "! chmod 600 ~/.kaggle/kaggle.json"
      ],
      "metadata": {
        "id": "g5jM2iqDGfC0"
      },
      "execution_count": 6,
      "outputs": []
    },
    {
      "cell_type": "code",
      "source": [
        "! kaggle datasets download -d maricinnamon/caltech101-airplanes-motorbikes-schooners"
      ],
      "metadata": {
        "id": "qWyFK4oNhM7E",
        "colab": {
          "base_uri": "https://localhost:8080/"
        },
        "outputId": "9ef4a5b2-23c8-4b07-e660-31b11596e1c7"
      },
      "execution_count": 7,
      "outputs": [
        {
          "output_type": "stream",
          "name": "stdout",
          "text": [
            "Downloading caltech101-airplanes-motorbikes-schooners.zip to /content\n",
            " 96% 14.0M/14.5M [00:00<00:00, 31.4MB/s]\n",
            "100% 14.5M/14.5M [00:00<00:00, 31.0MB/s]\n"
          ]
        }
      ]
    },
    {
      "cell_type": "code",
      "source": [
        "! unzip caltech101-airplanes-motorbikes-schooners.zip"
      ],
      "metadata": {
        "id": "ujGowicYhP3c"
      },
      "execution_count": null,
      "outputs": []
    },
    {
      "cell_type": "markdown",
      "source": [
        "# Splitting Data into Train/Test/Validation"
      ],
      "metadata": {
        "id": "vfm75Dc6sFeP"
      }
    },
    {
      "cell_type": "code",
      "source": [
        "'''\n",
        "This code in this cell is from https://www.kaggle.com/code/jiaowoguanren/airplanes-motorbikes-schooners-tf-efficientnet\n",
        "I used it to create a train/test/validate split for my data\n",
        "'''\n",
        "sdir = '/content/caltech101_classification'\n",
        "\n",
        "def make_dataframes(sdir):\n",
        "    bad_images = []\n",
        "    good_ext = ['jpg', 'jpeg', 'png', 'tiff']\n",
        "    filepaths = []\n",
        "    labels = []\n",
        "    classes = sorted(os.listdir(sdir))\n",
        "    for klass in classes:\n",
        "        classpath = os.path.join(sdir, klass)\n",
        "        flist = sorted(os.listdir(classpath))\n",
        "        desc = f'{klass:23s}'\n",
        "        for f in tqdm(flist, ncols=110, desc=desc, unit='file', colour='blue'):\n",
        "            fpath = os.path.join(classpath, f)\n",
        "            fl = f.lower()\n",
        "            index = fl.rfind('.')\n",
        "            ext = fl[index + 1:]\n",
        "            if ext in good_ext:\n",
        "                try:\n",
        "                    img = cv2.imread(fpath)\n",
        "                    shape = img.shape\n",
        "                    filepaths.append(fpath)\n",
        "                    labels.append(klass)\n",
        "                except:\n",
        "                    bad_images.append(fpath)\n",
        "                    print('defective image file: ', fpath)\n",
        "            else:\n",
        "                bad_images.append(fpath)\n",
        "    Fseries = pd.Series(filepaths, name='filepaths')\n",
        "    Lseries = pd.Series(labels, name='labels')\n",
        "    df = pd.concat([Fseries, Lseries], axis=1)\n",
        "\n",
        "    train_df, dummy_df = train_test_split(df, train_size=.8, shuffle=True, random_state=123, stratify=df['labels'])\n",
        "    valid_df, test_df = train_test_split(dummy_df, train_size=.5, shuffle=True, random_state=123,\n",
        "                                         stratify=dummy_df['labels'])\n",
        "    classes = sorted(train_df['labels'].unique())\n",
        "    class_count = len(classes)\n",
        "    sample_df = train_df.sample(n=50, replace=False)\n",
        "\n",
        "    ht = 0\n",
        "    wt = 0\n",
        "    count = 0\n",
        "    \n",
        "    for i in range(len(sample_df)):\n",
        "        fpath = sample_df['filepaths'].iloc[i]\n",
        "        try:\n",
        "            img = cv2.imread(fpath)\n",
        "            h = img.shape[0]\n",
        "            w = img.shape[1]\n",
        "            wt += w\n",
        "            ht += h\n",
        "            count += 1\n",
        "        except:\n",
        "            pass\n",
        "    have = int(ht / count)\n",
        "    wave = int(wt / count)\n",
        "    aspect_ratio = have / wave\n",
        "    print('number of classes in processed dataset= ', class_count)\n",
        "    counts = list(train_df['labels'].value_counts())\n",
        "    print('the maximum files in any class in train_df is ', max(counts),\n",
        "          '  the minimum files in any class in train_df is ', min(counts))\n",
        "    print('train_df length: ', len(train_df), '  test_df length: ', len(test_df), '  valid_df length: ', len(valid_df))\n",
        "    print('average image height= ', have, '  average image width= ', wave, ' aspect ratio h/w= ', aspect_ratio)\n",
        "    return train_df, test_df, valid_df, classes, class_count\n",
        "\n",
        "\n",
        "train_df, test_df, valid_df, classes, class_count = make_dataframes(sdir)"
      ],
      "metadata": {
        "colab": {
          "base_uri": "https://localhost:8080/"
        },
        "id": "cAiWd81BnLKi",
        "outputId": "cae3be1f-0056-4c03-acae-c696a5694a2b"
      },
      "execution_count": 13,
      "outputs": [
        {
          "output_type": "stream",
          "name": "stderr",
          "text": [
            "Motorbikes             : 100%|\u001b[34m██████████████████████████████████████████\u001b[0m| 798/798 [00:00<00:00, 2000.62file/s]\u001b[0m\n",
            "airplanes              : 100%|\u001b[34m██████████████████████████████████████████\u001b[0m| 800/800 [00:00<00:00, 1525.42file/s]\u001b[0m\n",
            "schooner               : 100%|\u001b[34m████████████████████████████████████████████\u001b[0m| 63/63 [00:00<00:00, 1221.87file/s]\u001b[0m\n"
          ]
        },
        {
          "output_type": "stream",
          "name": "stdout",
          "text": [
            "number of classes in processed dataset=  3\n",
            "the maximum files in any class in train_df is  640   the minimum files in any class in train_df is  50\n",
            "train_df length:  1328   test_df length:  167   valid_df length:  166\n",
            "average image height=  167   average image width=  336  aspect ratio h/w=  0.49702380952380953\n"
          ]
        }
      ]
    },
    {
      "cell_type": "code",
      "source": [
        "\"\"\"\n",
        "The code in this cell and the next 2 cells is loosely based on the code in the following tutorial: \n",
        "https://colab.research.google.com/github/lmoroney/dlaicourse/blob/master/Course%202%20-%20Part%208%20-%20Lesson%202%20-%20Notebook%20(RockPaperScissors).ipynb#scrollTo=ZABJp7T3VLCU\n",
        "I say loosely based because while I learned the essence of how to set up, compile and fit the model from this tutorial it would not have worked for the problem I am trying to solve,\n",
        "I had to learn what all the code, parameters and hyperparamters meant from documentation and tutorials (that I've linked in my blog post) and then write code that would actually work for \n",
        "my particular problem. \n",
        "\"\"\"\n",
        "\n",
        "train_datagen = ImageDataGenerator(rescale= 1.0/255)\n",
        "test_datagen = ImageDataGenerator(rescale= 1.0/255)\n",
        "valid_datagen = ImageDataGenerator(rescale= 1.0/255) \n",
        "\n",
        "#Read documentation on .flow_from_dataframe() from tensorflow website: https://www.tensorflow.org/api_docs/python/tf/keras/preprocessing/image/ImageDataGenerator#flow_from_dataframe\n",
        "train_data = train_datagen.flow_from_dataframe(train_df, x_col = \"filepaths\", y_col = \"labels\", batch_size =50, class_mode= \"categorical\", target_size = (224,224))\n",
        "test_data = test_datagen.flow_from_dataframe(test_df, x_col = \"filepaths\", y_col = \"labels\", batch_size =50, class_mode= \"categorical\", target_size = (224,224))\n",
        "valid_data = valid_datagen.flow_from_dataframe(valid_df, x_col = \"filepaths\", y_col = \"labels\", batch_size =50, class_mode= \"categorical\", target_size = (224,224))"
      ],
      "metadata": {
        "colab": {
          "base_uri": "https://localhost:8080/"
        },
        "id": "G3BQc579CQc8",
        "outputId": "bf02e712-5ab1-4df1-f388-cdb3578d6fa6"
      },
      "execution_count": 17,
      "outputs": [
        {
          "output_type": "stream",
          "name": "stdout",
          "text": [
            "Found 1328 validated image filenames belonging to 3 classes.\n",
            "Found 167 validated image filenames belonging to 3 classes.\n",
            "Found 166 validated image filenames belonging to 3 classes.\n"
          ]
        }
      ]
    },
    {
      "cell_type": "markdown",
      "source": [
        "# Building and Compiling and Running the Neural Net\n",
        "\n"
      ],
      "metadata": {
        "id": "tTqxKmstu9KP"
      }
    },
    {
      "cell_type": "code",
      "source": [
        "model = tf.keras.models.Sequential([\n",
        "    #First convolution Layer\n",
        "    tf.keras.layers.Conv2D(16, (3,3), activation= \"relu\", input_shape= (224,224,3)),\n",
        "    tf.keras.layers.MaxPooling2D(2,2),\n",
        "\n",
        "    #Second convolution layer\n",
        "    tf.keras.layers.Conv2D(32, (3,3), activation= \"relu\"),\n",
        "    tf.keras.layers.MaxPooling2D(2,2),\n",
        "\n",
        "    #Flattening to feed into DNN\n",
        "    tf.keras.layers.Flatten(),\n",
        "\n",
        "    #Hidden Layer with 512 neurons\n",
        "    tf.keras.layers.Dense(512, activation= 'relu'),\n",
        "\n",
        "    #Output layer\n",
        "    tf.keras.layers.Dense(3, activation= 'softmax')\n",
        "\n",
        "    ])\n",
        "\n",
        "model.compile(loss= \"mean_squared_error\", optimizer= RMSprop(lr=0.001), metrics = [\"acc\"])\n"
      ],
      "metadata": {
        "colab": {
          "base_uri": "https://localhost:8080/"
        },
        "id": "AaElm8ECAWOe",
        "outputId": "cf11d2eb-9c00-46dc-8e58-7b053db49ab9"
      },
      "execution_count": 65,
      "outputs": [
        {
          "output_type": "stream",
          "name": "stderr",
          "text": [
            "/usr/local/lib/python3.7/dist-packages/keras/optimizers/optimizer_v2/rmsprop.py:135: UserWarning: The `lr` argument is deprecated, use `learning_rate` instead.\n",
            "  super(RMSprop, self).__init__(name, **kwargs)\n"
          ]
        }
      ]
    },
    {
      "cell_type": "code",
      "source": [
        "#Fitting the model\n",
        "history = model.fit(train_data, \n",
        "                    epochs = 20, \n",
        "                    steps_per_epoch = 5, \n",
        "                    validation_data = valid_data, \n",
        "                    validation_steps = 2)"
      ],
      "metadata": {
        "colab": {
          "base_uri": "https://localhost:8080/"
        },
        "id": "scHeY9dYOxO9",
        "outputId": "03d3cd8f-00f1-4006-dc2f-5025383f20ae"
      },
      "execution_count": 66,
      "outputs": [
        {
          "output_type": "stream",
          "name": "stdout",
          "text": [
            "Epoch 1/20\n",
            "5/5 [==============================] - 9s 2s/step - loss: 0.3246 - acc: 0.4605 - val_loss: 0.3333 - val_acc: 0.5000\n",
            "Epoch 2/20\n",
            "5/5 [==============================] - 9s 2s/step - loss: 0.3028 - acc: 0.5400 - val_loss: 0.3800 - val_acc: 0.4300\n",
            "Epoch 3/20\n",
            "5/5 [==============================] - 10s 2s/step - loss: 0.3440 - acc: 0.4840 - val_loss: 0.3467 - val_acc: 0.4800\n",
            "Epoch 4/20\n",
            "5/5 [==============================] - 10s 2s/step - loss: 0.3450 - acc: 0.4825 - val_loss: 0.3600 - val_acc: 0.4600\n",
            "Epoch 5/20\n",
            "5/5 [==============================] - 9s 2s/step - loss: 0.3387 - acc: 0.4920 - val_loss: 0.3400 - val_acc: 0.4900\n",
            "Epoch 6/20\n",
            "5/5 [==============================] - 9s 2s/step - loss: 0.3493 - acc: 0.4760 - val_loss: 0.3200 - val_acc: 0.5200\n",
            "Epoch 7/20\n",
            "5/5 [==============================] - 9s 2s/step - loss: 0.3440 - acc: 0.4840 - val_loss: 0.3333 - val_acc: 0.5000\n",
            "Epoch 8/20\n",
            "5/5 [==============================] - 9s 2s/step - loss: 0.3440 - acc: 0.4840 - val_loss: 0.3800 - val_acc: 0.4300\n",
            "Epoch 9/20\n",
            "5/5 [==============================] - 8s 2s/step - loss: 0.3129 - acc: 0.5307 - val_loss: 0.3467 - val_acc: 0.4800\n",
            "Epoch 10/20\n",
            "5/5 [==============================] - 11s 2s/step - loss: 0.3360 - acc: 0.4960 - val_loss: 0.3667 - val_acc: 0.4500\n",
            "Epoch 11/20\n",
            "5/5 [==============================] - 8s 2s/step - loss: 0.3333 - acc: 0.5000 - val_loss: 0.3467 - val_acc: 0.4800\n",
            "Epoch 12/20\n",
            "5/5 [==============================] - 9s 2s/step - loss: 0.3627 - acc: 0.4560 - val_loss: 0.3733 - val_acc: 0.4400\n",
            "Epoch 13/20\n",
            "5/5 [==============================] - 8s 2s/step - loss: 0.3596 - acc: 0.4605 - val_loss: 0.3600 - val_acc: 0.4600\n",
            "Epoch 14/20\n",
            "5/5 [==============================] - 9s 2s/step - loss: 0.3173 - acc: 0.5240 - val_loss: 0.3733 - val_acc: 0.4400\n",
            "Epoch 15/20\n",
            "5/5 [==============================] - 10s 2s/step - loss: 0.3387 - acc: 0.4920 - val_loss: 0.3267 - val_acc: 0.5100\n",
            "Epoch 16/20\n",
            "5/5 [==============================] - 9s 2s/step - loss: 0.3333 - acc: 0.5000 - val_loss: 0.3533 - val_acc: 0.4700\n",
            "Epoch 17/20\n",
            "5/5 [==============================] - 8s 2s/step - loss: 0.3421 - acc: 0.4868 - val_loss: 0.3533 - val_acc: 0.4700\n",
            "Epoch 18/20\n",
            "5/5 [==============================] - 10s 2s/step - loss: 0.3440 - acc: 0.4840 - val_loss: 0.3400 - val_acc: 0.4900\n",
            "Epoch 19/20\n",
            "5/5 [==============================] - 8s 2s/step - loss: 0.3520 - acc: 0.4720 - val_loss: 0.3600 - val_acc: 0.4600\n",
            "Epoch 20/20\n",
            "5/5 [==============================] - 8s 2s/step - loss: 0.3760 - acc: 0.4360 - val_loss: 0.3000 - val_acc: 0.5500\n"
          ]
        }
      ]
    },
    {
      "cell_type": "code",
      "source": [
        "'''\n",
        "The code for creating graphs of the training and validation accuracy per epoch came from the following tutorial provided by Google:\n",
        " https://colab.research.google.com/github/lmoroney/mlday-tokyo/blob/master/Lab6-Cats-v-Dogs.ipynb#scrollTo=dn-6c02VmqiN\n",
        "'''\n",
        "\n",
        "# Retrieve a list of list results on training and test datasets for each training epoch\n",
        "acc=history.history['acc']\n",
        "val_acc=history.history['val_acc']\n",
        "loss=history.history['loss']\n",
        "val_loss=history.history['val_loss']\n",
        "\n",
        "# Get number of epochs\n",
        "epochs=range(len(acc)) \n",
        "\n",
        "# Plot training and validation accuracy per epoch\n",
        "plt.plot(epochs, acc, 'r', label = \"Training Accuracy\")\n",
        "plt.plot(epochs, val_acc, 'b', label = \"Validation Accuracy\")\n",
        "plt.title('Training and validation accuracy')\n",
        "plt.legend(loc= 2)\n",
        "plt.figure()\n",
        "plt.show()\n",
        "\n",
        "# Plot training and validation loss per epoch\n",
        "plt.plot(epochs, loss, 'r', \"Training Loss\")\n",
        "plt.plot(epochs, val_loss, 'b', \"Validation Loss\")\n",
        "plt.figure()\n",
        "plt.show()"
      ],
      "metadata": {
        "colab": {
          "base_uri": "https://localhost:8080/",
          "height": 564
        },
        "id": "hh9LYgc5TIbx",
        "outputId": "7ea80509-9be5-4331-e655-f1f7723e9883"
      },
      "execution_count": 56,
      "outputs": [
        {
          "output_type": "display_data",
          "data": {
            "text/plain": [
              "<Figure size 432x288 with 1 Axes>"
            ],
            "image/png": "[encoded data removed]"
          },
          "metadata": {
            "needs_background": "light"
          }
        },
        {
          "output_type": "display_data",
          "data": {
            "text/plain": [
              "<Figure size 432x288 with 0 Axes>"
            ]
          },
          "metadata": {}
        },
        {
          "output_type": "display_data",
          "data": {
            "text/plain": [
              "<Figure size 432x288 with 1 Axes>"
            ],
            "image/png": "[encoded data removed]"
          },
          "metadata": {
            "needs_background": "light"
          }
        },
        {
          "output_type": "display_data",
          "data": {
            "text/plain": [
              "<Figure size 432x288 with 0 Axes>"
            ]
          },
          "metadata": {}
        }
      ]
    },
    {
      "cell_type": "markdown",
      "source": [
        "# IMPORTANT NOTE: The code from here on out is the basically the same as the last three blocks above, the only difference is that now I will be fine tuning parameters and hyperparameters to increase the accuracy of my model (that is why I am not linking to references in the following code blocks because they have all been covered in the previous code blocks."
      ],
      "metadata": {
        "id": "cCsB5VRxN_qo"
      }
    },
    {
      "cell_type": "markdown",
      "source": [
        "# Second Run\n"
      ],
      "metadata": {
        "id": "SVLt6Xgzuvbo"
      }
    },
    {
      "cell_type": "code",
      "source": [
        "model = tf.keras.models.Sequential([\n",
        "    #First convolution Layer\n",
        "    tf.keras.layers.Conv2D(16, (3,3), activation= \"relu\", input_shape= (224,224,3)),\n",
        "    tf.keras.layers.MaxPooling2D(2,2),\n",
        "\n",
        "    #Second convolution layer\n",
        "    tf.keras.layers.Conv2D(32, (3,3), activation= \"relu\"),\n",
        "    tf.keras.layers.MaxPooling2D(2,2),\n",
        "\n",
        "    #Third convolution layer\n",
        "    tf.keras.layers.Conv2D(64, (3,3), activation= \"relu\"),\n",
        "    tf.keras.layers.MaxPooling2D(2,2),\n",
        "\n",
        "    #Fourth convolution layer\n",
        "    tf.keras.layers.Conv2D(128, (3,3), activation= \"relu\"),\n",
        "    tf.keras.layers.MaxPooling2D(2,2),\n",
        "\n",
        "    #Flattening to feed into DNN\n",
        "    tf.keras.layers.Flatten(),\n",
        "\n",
        "    #Hidden Layer with 512 neurons\n",
        "    tf.keras.layers.Dense(512, activation= 'relu'),\n",
        "\n",
        "    #\n",
        "    tf.keras.layers.Dense(3, activation= 'softmax')\n",
        "\n",
        "    ])\n",
        "\n",
        "model.compile(loss= \"mean_squared_error\", optimizer= RMSprop(lr=0.001), metrics = [\"acc\"])\n"
      ],
      "metadata": {
        "id": "lbDLhxrKuyzL",
        "colab": {
          "base_uri": "https://localhost:8080/"
        },
        "outputId": "b11356d1-f72a-4252-bcf8-2b1ed876cd79"
      },
      "execution_count": 67,
      "outputs": [
        {
          "output_type": "stream",
          "name": "stderr",
          "text": [
            "/usr/local/lib/python3.7/dist-packages/keras/optimizers/optimizer_v2/rmsprop.py:135: UserWarning: The `lr` argument is deprecated, use `learning_rate` instead.\n",
            "  super(RMSprop, self).__init__(name, **kwargs)\n"
          ]
        }
      ]
    },
    {
      "cell_type": "code",
      "source": [
        "history = model.fit(train_data, \n",
        "                    epochs = 15, \n",
        "                    steps_per_epoch = 20, \n",
        "                    validation_data = valid_data, \n",
        "                    validation_steps = 5)"
      ],
      "metadata": {
        "colab": {
          "base_uri": "https://localhost:8080/"
        },
        "id": "G0mKPzbtaBpW",
        "outputId": "80ece0b0-ac60-46af-ea68-b4d6ef1bc957"
      },
      "execution_count": 68,
      "outputs": [
        {
          "output_type": "stream",
          "name": "stdout",
          "text": [
            "Epoch 1/15\n",
            "20/20 [==============================] - ETA: 0s - loss: 0.3321 - acc: 0.4888"
          ]
        },
        {
          "output_type": "stream",
          "name": "stderr",
          "text": [
            "WARNING:tensorflow:Your input ran out of data; interrupting training. Make sure that your dataset or generator can generate at least `steps_per_epoch * epochs` batches (in this case, 5 batches). You may need to use the repeat() function when building your dataset.\n"
          ]
        },
        {
          "output_type": "stream",
          "name": "stdout",
          "text": [
            "\b\b\b\b\b\b\b\b\b\b\b\b\b\b\b\b\b\b\b\b\b\b\b\b\b\b\b\b\b\b\b\b\b\b\b\b\b\b\b\b\b\b\b\b\b\b\b\b\b\b\b\b\b\b\b\b\b\b\b\b\b\b\b\b\b\b\b\b\b\b\b\b\b\b\b\b\b\r20/20 [==============================] - 35s 2s/step - loss: 0.3321 - acc: 0.4888 - val_loss: 0.3454 - val_acc: 0.4819\n",
            "Epoch 2/15\n",
            "20/20 [==============================] - 32s 2s/step - loss: 0.3473 - acc: 0.4790\n",
            "Epoch 3/15\n",
            "20/20 [==============================] - 32s 2s/step - loss: 0.3449 - acc: 0.4826\n",
            "Epoch 4/15\n",
            "20/20 [==============================] - 31s 2s/step - loss: 0.3511 - acc: 0.4734\n",
            "Epoch 5/15\n",
            "20/20 [==============================] - 32s 2s/step - loss: 0.3487 - acc: 0.4770\n",
            "Epoch 6/15\n",
            "20/20 [==============================] - 31s 2s/step - loss: 0.3470 - acc: 0.4796\n",
            "Epoch 7/15\n",
            "20/20 [==============================] - 31s 2s/step - loss: 0.3470 - acc: 0.4796\n",
            "Epoch 8/15\n",
            "20/20 [==============================] - 31s 2s/step - loss: 0.3490 - acc: 0.4765\n",
            "Epoch 9/15\n",
            "20/20 [==============================] - 32s 2s/step - loss: 0.1970 - acc: 0.5650\n",
            "Epoch 10/15\n",
            "20/20 [==============================] - 31s 2s/step - loss: 0.0468 - acc: 0.9070\n",
            "Epoch 11/15\n",
            "20/20 [==============================] - 31s 2s/step - loss: 0.0266 - acc: 0.9509\n",
            "Epoch 12/15\n",
            "20/20 [==============================] - 31s 2s/step - loss: 0.0127 - acc: 0.9755\n",
            "Epoch 13/15\n",
            "20/20 [==============================] - 31s 2s/step - loss: 0.0075 - acc: 0.9877\n",
            "Epoch 14/15\n",
            "20/20 [==============================] - 31s 2s/step - loss: 0.0089 - acc: 0.9810\n",
            "Epoch 15/15\n",
            "20/20 [==============================] - 32s 2s/step - loss: 0.0103 - acc: 0.9806\n"
          ]
        }
      ]
    },
    {
      "cell_type": "code",
      "source": [
        "# Retrieve a list of list results on training and test datasets for each training epoch\n",
        "acc=history.history['acc']\n",
        "val_acc=history.history['val_acc']\n",
        "loss=history.history['loss']\n",
        "val_loss=history.history['val_loss']\n",
        "\n",
        "# Get number of epochs\n",
        "epochs=range(len(acc)) \n",
        "\n",
        "# Plot training and validation accuracy per epoch\n",
        "plt.plot(epochs, acc, 'r', label = \"Training Accuracy\")\n",
        "plt.plot(epochs, val_acc, 'b', label = \"Validation Accuracy\")\n",
        "plt.title('Training and validation accuracy')\n",
        "plt.legend(loc= 2)\n",
        "plt.figure()\n",
        "plt.show()\n",
        "\n",
        "# Plot training and validation loss per epoch\n",
        "plt.plot(epochs, loss, 'r', \"Training Loss\")\n",
        "plt.plot(epochs, val_loss, 'b', \"Validation Loss\")\n",
        "plt.figure()\n",
        "plt.show()"
      ],
      "metadata": {
        "colab": {
          "base_uri": "https://localhost:8080/",
          "height": 628
        },
        "id": "WBt7wgn2aY-d",
        "outputId": "0fdb4fbf-f48c-45f0-f682-86622253ef92"
      },
      "execution_count": 69,
      "outputs": [
        {
          "output_type": "error",
          "ename": "ValueError",
          "evalue": "ignored",
          "traceback": [
            "\u001b[0;31m---------------------------------------------------------------------------\u001b[0m",
            "\u001b[0;31mValueError\u001b[0m                                Traceback (most recent call last)",
            "\u001b[0;32m<ipython-input-69-4cfabd951105>\u001b[0m in \u001b[0;36m<module>\u001b[0;34m\u001b[0m\n\u001b[1;32m     10\u001b[0m \u001b[0;31m# Plot training and validation accuracy per epoch\u001b[0m\u001b[0;34m\u001b[0m\u001b[0;34m\u001b[0m\u001b[0;34m\u001b[0m\u001b[0m\n\u001b[1;32m     11\u001b[0m \u001b[0mplt\u001b[0m\u001b[0;34m.\u001b[0m\u001b[0mplot\u001b[0m\u001b[0;34m(\u001b[0m\u001b[0mepochs\u001b[0m\u001b[0;34m,\u001b[0m \u001b[0macc\u001b[0m\u001b[0;34m,\u001b[0m \u001b[0;34m'r'\u001b[0m\u001b[0;34m,\u001b[0m \u001b[0mlabel\u001b[0m \u001b[0;34m=\u001b[0m \u001b[0;34m\"Training Accuracy\"\u001b[0m\u001b[0;34m)\u001b[0m\u001b[0;34m\u001b[0m\u001b[0;34m\u001b[0m\u001b[0m\n\u001b[0;32m---> 12\u001b[0;31m \u001b[0mplt\u001b[0m\u001b[0;34m.\u001b[0m\u001b[0mplot\u001b[0m\u001b[0;34m(\u001b[0m\u001b[0mepochs\u001b[0m\u001b[0;34m,\u001b[0m \u001b[0mval_acc\u001b[0m\u001b[0;34m,\u001b[0m \u001b[0;34m'b'\u001b[0m\u001b[0;34m,\u001b[0m \u001b[0mlabel\u001b[0m \u001b[0;34m=\u001b[0m \u001b[0;34m\"Validation Accuracy\"\u001b[0m\u001b[0;34m)\u001b[0m\u001b[0;34m\u001b[0m\u001b[0;34m\u001b[0m\u001b[0m\n\u001b[0m\u001b[1;32m     13\u001b[0m \u001b[0mplt\u001b[0m\u001b[0;34m.\u001b[0m\u001b[0mtitle\u001b[0m\u001b[0;34m(\u001b[0m\u001b[0;34m'Training and validation accuracy'\u001b[0m\u001b[0;34m)\u001b[0m\u001b[0;34m\u001b[0m\u001b[0;34m\u001b[0m\u001b[0m\n\u001b[1;32m     14\u001b[0m \u001b[0mplt\u001b[0m\u001b[0;34m.\u001b[0m\u001b[0mlegend\u001b[0m\u001b[0;34m(\u001b[0m\u001b[0mloc\u001b[0m\u001b[0;34m=\u001b[0m \u001b[0;36m2\u001b[0m\u001b[0;34m)\u001b[0m\u001b[0;34m\u001b[0m\u001b[0;34m\u001b[0m\u001b[0m\n",
            "\u001b[0;32m/usr/local/lib/python3.7/dist-packages/matplotlib/pyplot.py\u001b[0m in \u001b[0;36mplot\u001b[0;34m(scalex, scaley, data, *args, **kwargs)\u001b[0m\n\u001b[1;32m   2761\u001b[0m     return gca().plot(\n\u001b[1;32m   2762\u001b[0m         *args, scalex=scalex, scaley=scaley, **({\"data\": data} if data\n\u001b[0;32m-> 2763\u001b[0;31m         is not None else {}), **kwargs)\n\u001b[0m\u001b[1;32m   2764\u001b[0m \u001b[0;34m\u001b[0m\u001b[0m\n\u001b[1;32m   2765\u001b[0m \u001b[0;34m\u001b[0m\u001b[0m\n",
            "\u001b[0;32m/usr/local/lib/python3.7/dist-packages/matplotlib/axes/_axes.py\u001b[0m in \u001b[0;36mplot\u001b[0;34m(self, scalex, scaley, data, *args, **kwargs)\u001b[0m\n\u001b[1;32m   1645\u001b[0m         \"\"\"\n\u001b[1;32m   1646\u001b[0m         \u001b[0mkwargs\u001b[0m \u001b[0;34m=\u001b[0m \u001b[0mcbook\u001b[0m\u001b[0;34m.\u001b[0m\u001b[0mnormalize_kwargs\u001b[0m\u001b[0;34m(\u001b[0m\u001b[0mkwargs\u001b[0m\u001b[0;34m,\u001b[0m \u001b[0mmlines\u001b[0m\u001b[0;34m.\u001b[0m\u001b[0mLine2D\u001b[0m\u001b[0;34m)\u001b[0m\u001b[0;34m\u001b[0m\u001b[0;34m\u001b[0m\u001b[0m\n\u001b[0;32m-> 1647\u001b[0;31m         \u001b[0mlines\u001b[0m \u001b[0;34m=\u001b[0m \u001b[0;34m[\u001b[0m\u001b[0;34m*\u001b[0m\u001b[0mself\u001b[0m\u001b[0;34m.\u001b[0m\u001b[0m_get_lines\u001b[0m\u001b[0;34m(\u001b[0m\u001b[0;34m*\u001b[0m\u001b[0margs\u001b[0m\u001b[0;34m,\u001b[0m \u001b[0mdata\u001b[0m\u001b[0;34m=\u001b[0m\u001b[0mdata\u001b[0m\u001b[0;34m,\u001b[0m \u001b[0;34m**\u001b[0m\u001b[0mkwargs\u001b[0m\u001b[0;34m)\u001b[0m\u001b[0;34m]\u001b[0m\u001b[0;34m\u001b[0m\u001b[0;34m\u001b[0m\u001b[0m\n\u001b[0m\u001b[1;32m   1648\u001b[0m         \u001b[0;32mfor\u001b[0m \u001b[0mline\u001b[0m \u001b[0;32min\u001b[0m \u001b[0mlines\u001b[0m\u001b[0;34m:\u001b[0m\u001b[0;34m\u001b[0m\u001b[0;34m\u001b[0m\u001b[0m\n\u001b[1;32m   1649\u001b[0m             \u001b[0mself\u001b[0m\u001b[0;34m.\u001b[0m\u001b[0madd_line\u001b[0m\u001b[0;34m(\u001b[0m\u001b[0mline\u001b[0m\u001b[0;34m)\u001b[0m\u001b[0;34m\u001b[0m\u001b[0;34m\u001b[0m\u001b[0m\n",
            "\u001b[0;32m/usr/local/lib/python3.7/dist-packages/matplotlib/axes/_base.py\u001b[0m in \u001b[0;36m__call__\u001b[0;34m(self, *args, **kwargs)\u001b[0m\n\u001b[1;32m    214\u001b[0m                 \u001b[0mthis\u001b[0m \u001b[0;34m+=\u001b[0m \u001b[0margs\u001b[0m\u001b[0;34m[\u001b[0m\u001b[0;36m0\u001b[0m\u001b[0;34m]\u001b[0m\u001b[0;34m,\u001b[0m\u001b[0;34m\u001b[0m\u001b[0;34m\u001b[0m\u001b[0m\n\u001b[1;32m    215\u001b[0m                 \u001b[0margs\u001b[0m \u001b[0;34m=\u001b[0m \u001b[0margs\u001b[0m\u001b[0;34m[\u001b[0m\u001b[0;36m1\u001b[0m\u001b[0;34m:\u001b[0m\u001b[0;34m]\u001b[0m\u001b[0;34m\u001b[0m\u001b[0;34m\u001b[0m\u001b[0m\n\u001b[0;32m--> 216\u001b[0;31m             \u001b[0;32myield\u001b[0m \u001b[0;32mfrom\u001b[0m \u001b[0mself\u001b[0m\u001b[0;34m.\u001b[0m\u001b[0m_plot_args\u001b[0m\u001b[0;34m(\u001b[0m\u001b[0mthis\u001b[0m\u001b[0;34m,\u001b[0m \u001b[0mkwargs\u001b[0m\u001b[0;34m)\u001b[0m\u001b[0;34m\u001b[0m\u001b[0;34m\u001b[0m\u001b[0m\n\u001b[0m\u001b[1;32m    217\u001b[0m \u001b[0;34m\u001b[0m\u001b[0m\n\u001b[1;32m    218\u001b[0m     \u001b[0;32mdef\u001b[0m \u001b[0mget_next_color\u001b[0m\u001b[0;34m(\u001b[0m\u001b[0mself\u001b[0m\u001b[0;34m)\u001b[0m\u001b[0;34m:\u001b[0m\u001b[0;34m\u001b[0m\u001b[0;34m\u001b[0m\u001b[0m\n",
            "\u001b[0;32m/usr/local/lib/python3.7/dist-packages/matplotlib/axes/_base.py\u001b[0m in \u001b[0;36m_plot_args\u001b[0;34m(self, tup, kwargs)\u001b[0m\n\u001b[1;32m    340\u001b[0m \u001b[0;34m\u001b[0m\u001b[0m\n\u001b[1;32m    341\u001b[0m         \u001b[0;32mif\u001b[0m \u001b[0mx\u001b[0m\u001b[0;34m.\u001b[0m\u001b[0mshape\u001b[0m\u001b[0;34m[\u001b[0m\u001b[0;36m0\u001b[0m\u001b[0;34m]\u001b[0m \u001b[0;34m!=\u001b[0m \u001b[0my\u001b[0m\u001b[0;34m.\u001b[0m\u001b[0mshape\u001b[0m\u001b[0;34m[\u001b[0m\u001b[0;36m0\u001b[0m\u001b[0;34m]\u001b[0m\u001b[0;34m:\u001b[0m\u001b[0;34m\u001b[0m\u001b[0;34m\u001b[0m\u001b[0m\n\u001b[0;32m--> 342\u001b[0;31m             raise ValueError(f\"x and y must have same first dimension, but \"\n\u001b[0m\u001b[1;32m    343\u001b[0m                              f\"have shapes {x.shape} and {y.shape}\")\n\u001b[1;32m    344\u001b[0m         \u001b[0;32mif\u001b[0m \u001b[0mx\u001b[0m\u001b[0;34m.\u001b[0m\u001b[0mndim\u001b[0m \u001b[0;34m>\u001b[0m \u001b[0;36m2\u001b[0m \u001b[0;32mor\u001b[0m \u001b[0my\u001b[0m\u001b[0;34m.\u001b[0m\u001b[0mndim\u001b[0m \u001b[0;34m>\u001b[0m \u001b[0;36m2\u001b[0m\u001b[0;34m:\u001b[0m\u001b[0;34m\u001b[0m\u001b[0;34m\u001b[0m\u001b[0m\n",
            "\u001b[0;31mValueError\u001b[0m: x and y must have same first dimension, but have shapes (15,) and (1,)"
          ]
        },
        {
          "output_type": "display_data",
          "data": {
            "text/plain": [
              "<Figure size 432x288 with 1 Axes>"
            ],
            "image/png": "[encoded data removed]"
          },
          "metadata": {
            "needs_background": "light"
          }
        }
      ]
    },
    {
      "cell_type": "code",
      "source": [],
      "metadata": {
        "id": "4L2Oo1E-dEjL"
      },
      "execution_count": null,
      "outputs": []
    }
  ]
}