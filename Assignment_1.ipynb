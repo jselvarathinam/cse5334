{
  "nbformat": 4,
  "nbformat_minor": 0,
  "metadata": {
    "colab": {
      "provenance": [],
      "collapsed_sections": [
        "SVLt6Xgzuvbo"
      ],
      "authorship_tag": "ABX9TyP/i5+PIdhu2PsmUtNewrqh",
      "include_colab_link": true
    },
    "kernelspec": {
      "name": "python3",
      "display_name": "Python 3"
    },
    "language_info": {
      "name": "python"
    }
  },
  "cells": [
    {
      "cell_type": "markdown",
      "metadata": {
        "id": "view-in-github",
        "colab_type": "text"
      },
      "source": [
        "<a href=\"https://colab.research.google.com/github/jselvarathinam/cse5334/blob/main/Assignment_1.ipynb\" target=\"_parent\"><img src=\"https://colab.research.google.com/assets/colab-badge.svg\" alt=\"Open In Colab\"/></a>"
      ]
    },
    {
      "cell_type": "markdown",
      "source": [
        "# Uploading Images of Motorbikes/Schooners/Airplanes\n"
      ],
      "metadata": {
        "id": "eC7FRzU6nawS"
      }
    },
    {
      "cell_type": "code",
      "source": [
        "! pip install kaggle"
      ],
      "metadata": {
        "colab": {
          "base_uri": "https://localhost:8080/"
        },
        "id": "0iUuIjltFNke",
        "outputId": "8dd248bb-2874-49c4-baf7-edb619967fdb"
      },
      "execution_count": 1,
      "outputs": [
        {
          "output_type": "stream",
          "name": "stdout",
          "text": [
            "Looking in indexes: https://pypi.org/simple, https://us-python.pkg.dev/colab-wheels/public/simple/\n",
            "Requirement already satisfied: kaggle in /usr/local/lib/python3.7/dist-packages (1.5.12)\n",
            "Requirement already satisfied: six>=1.10 in /usr/local/lib/python3.7/dist-packages (from kaggle) (1.15.0)\n",
            "Requirement already satisfied: certifi in /usr/local/lib/python3.7/dist-packages (from kaggle) (2022.9.24)\n",
            "Requirement already satisfied: requests in /usr/local/lib/python3.7/dist-packages (from kaggle) (2.23.0)\n",
            "Requirement already satisfied: python-dateutil in /usr/local/lib/python3.7/dist-packages (from kaggle) (2.8.2)\n",
            "Requirement already satisfied: tqdm in /usr/local/lib/python3.7/dist-packages (from kaggle) (4.64.1)\n",
            "Requirement already satisfied: urllib3 in /usr/local/lib/python3.7/dist-packages (from kaggle) (1.24.3)\n",
            "Requirement already satisfied: python-slugify in /usr/local/lib/python3.7/dist-packages (from kaggle) (6.1.2)\n",
            "Requirement already satisfied: text-unidecode>=1.3 in /usr/local/lib/python3.7/dist-packages (from python-slugify->kaggle) (1.3)\n",
            "Requirement already satisfied: idna<3,>=2.5 in /usr/local/lib/python3.7/dist-packages (from requests->kaggle) (2.10)\n",
            "Requirement already satisfied: chardet<4,>=3.0.2 in /usr/local/lib/python3.7/dist-packages (from requests->kaggle) (3.0.4)\n"
          ]
        }
      ]
    },
    {
      "cell_type": "code",
      "source": [
        "#Importing Necessary packages\n",
        "import os\n",
        "import tensorflow as tf\n",
        "import random\n",
        "from tensorflow.keras.optimizers import RMSprop\n",
        "from tensorflow.keras.preprocessing.image import ImageDataGenerator\n",
        "from shutil import copyfile\n",
        "import zipfile\n",
        "import matplotlib.image  as mpimg\n",
        "import matplotlib.pyplot as plt\n",
        "import pandas as pd\n",
        "import numpy as np\n",
        "import os, shutil, math, cv2, json, random\n",
        "from tqdm import tqdm\n",
        "from keras.layers import *\n",
        "from sklearn.metrics import accuracy_score, precision_recall_fscore_support, f1_score, classification_report, confusion_matrix\n",
        "from sklearn.model_selection import train_test_split"
      ],
      "metadata": {
        "id": "p6xxmkLfKXDi"
      },
      "execution_count": 37,
      "outputs": []
    },
    {
      "cell_type": "code",
      "source": [
        "#Mounting google drive\n",
        "from google.colab import drive\n",
        "drive.mount('/content/drive')"
      ],
      "metadata": {
        "colab": {
          "base_uri": "https://localhost:8080/"
        },
        "id": "cPnMayxphBPf",
        "outputId": "222a7a7e-b125-4c33-9514-42fc79001ab3"
      },
      "execution_count": 3,
      "outputs": [
        {
          "output_type": "stream",
          "name": "stdout",
          "text": [
            "Mounted at /content/drive\n"
          ]
        }
      ]
    },
    {
      "cell_type": "code",
      "source": [
        "\"\"\"\n",
        "The following four cells make a kaggle directory in this workspace and download the caltech101 dataset into it.\n",
        "I learned how to do this from the following youtube tutorial: https://www.youtube.com/watch?v=yEXkEUqK52Q. I think \n",
        "this code is fairly common but I wanted to include a reference just in case.\n",
        "\"\"\"\n",
        "! mkdir ~/.kaggle"
      ],
      "metadata": {
        "id": "KvWCwPLkFxeV"
      },
      "execution_count": 4,
      "outputs": []
    },
    {
      "cell_type": "code",
      "source": [
        "! cp /content/drive/MyDrive/ColabNotebooks/kaggle.json ~/.kaggle/kaggle.json"
      ],
      "metadata": {
        "id": "GqAiaGwSGNLd"
      },
      "execution_count": 5,
      "outputs": []
    },
    {
      "cell_type": "code",
      "source": [
        "! chmod 600 ~/.kaggle/kaggle.json"
      ],
      "metadata": {
        "id": "g5jM2iqDGfC0"
      },
      "execution_count": 6,
      "outputs": []
    },
    {
      "cell_type": "code",
      "source": [
        "! kaggle datasets download -d maricinnamon/caltech101-airplanes-motorbikes-schooners"
      ],
      "metadata": {
        "id": "qWyFK4oNhM7E",
        "colab": {
          "base_uri": "https://localhost:8080/"
        },
        "outputId": "9ef4a5b2-23c8-4b07-e660-31b11596e1c7"
      },
      "execution_count": 7,
      "outputs": [
        {
          "output_type": "stream",
          "name": "stdout",
          "text": [
            "Downloading caltech101-airplanes-motorbikes-schooners.zip to /content\n",
            " 96% 14.0M/14.5M [00:00<00:00, 31.4MB/s]\n",
            "100% 14.5M/14.5M [00:00<00:00, 31.0MB/s]\n"
          ]
        }
      ]
    },
    {
      "cell_type": "code",
      "source": [
        "! unzip caltech101-airplanes-motorbikes-schooners.zip"
      ],
      "metadata": {
        "id": "ujGowicYhP3c"
      },
      "execution_count": null,
      "outputs": []
    },
    {
      "cell_type": "markdown",
      "source": [
        "# Splitting Data into Train/Test/Validation"
      ],
      "metadata": {
        "id": "vfm75Dc6sFeP"
      }
    },
    {
      "cell_type": "code",
      "source": [
        "'''\n",
        "This code in this cell is from https://www.kaggle.com/code/jiaowoguanren/airplanes-motorbikes-schooners-tf-efficientnet \n",
        "I used it to create a train/test/validate split for my data. (It also helped me in the next cell to understand I needed to use the \n",
        "\".flow_from_dataframe\" when generating batches of images and labels for training, testing and validating the neural net). \n",
        "'''\n",
        "sdir = '/content/caltech101_classification'\n",
        "\n",
        "#Defining function that creates training, testing, and validation dataframes\n",
        "def make_dataframes(sdir):\n",
        "    bad_images = []\n",
        "    good_ext = ['jpg', 'jpeg', 'png', 'tiff']\n",
        "    filepaths = []\n",
        "    labels = []\n",
        "    classes = sorted(os.listdir(sdir))\n",
        "    for klass in classes:\n",
        "        classpath = os.path.join(sdir, klass)\n",
        "        flist = sorted(os.listdir(classpath))\n",
        "        desc = f'{klass:23s}'\n",
        "        for f in tqdm(flist, ncols=110, desc=desc, unit='file', colour='blue'):\n",
        "            fpath = os.path.join(classpath, f)\n",
        "            fl = f.lower()\n",
        "            index = fl.rfind('.')\n",
        "            ext = fl[index + 1:]\n",
        "            if ext in good_ext:\n",
        "                try:\n",
        "                    img = cv2.imread(fpath)\n",
        "                    shape = img.shape\n",
        "                    filepaths.append(fpath)\n",
        "                    labels.append(klass)\n",
        "                except:\n",
        "                    bad_images.append(fpath)\n",
        "                    print('defective image file: ', fpath)\n",
        "            else:\n",
        "                bad_images.append(fpath)\n",
        "    Fseries = pd.Series(filepaths, name='filepaths')\n",
        "    Lseries = pd.Series(labels, name='labels')\n",
        "    df = pd.concat([Fseries, Lseries], axis=1)\n",
        "\n",
        "    train_df, dummy_df = train_test_split(df, train_size=.8, shuffle=True, random_state=123, stratify=df['labels'])\n",
        "    valid_df, test_df = train_test_split(dummy_df, train_size=.5, shuffle=True, random_state=123,\n",
        "                                         stratify=dummy_df['labels'])\n",
        "    classes = sorted(train_df['labels'].unique())\n",
        "    class_count = len(classes)\n",
        "    sample_df = train_df.sample(n=50, replace=False)\n",
        "\n",
        "    ht = 0\n",
        "    wt = 0\n",
        "    count = 0\n",
        "    \n",
        "    for i in range(len(sample_df)):\n",
        "        fpath = sample_df['filepaths'].iloc[i]\n",
        "        try:\n",
        "            img = cv2.imread(fpath)\n",
        "            h = img.shape[0]\n",
        "            w = img.shape[1]\n",
        "            wt += w\n",
        "            ht += h\n",
        "            count += 1\n",
        "        except:\n",
        "            pass\n",
        "    have = int(ht / count)\n",
        "    wave = int(wt / count)\n",
        "    aspect_ratio = have / wave\n",
        "    print('number of classes in processed dataset= ', class_count)\n",
        "    counts = list(train_df['labels'].value_counts())\n",
        "    print('the maximum files in any class in train_df is ', max(counts),\n",
        "          '  the minimum files in any class in train_df is ', min(counts))\n",
        "    print('train_df length: ', len(train_df), '  test_df length: ', len(test_df), '  valid_df length: ', len(valid_df))\n",
        "    print('average image height= ', have, '  average image width= ', wave, ' aspect ratio h/w= ', aspect_ratio)\n",
        "    return train_df, test_df, valid_df, classes, class_count\n",
        "\n",
        "#Create training, testing, and validation dataframes\n",
        "train_df, test_df, valid_df, classes, class_count = make_dataframes(sdir)"
      ],
      "metadata": {
        "colab": {
          "base_uri": "https://localhost:8080/"
        },
        "id": "cAiWd81BnLKi",
        "outputId": "cae3be1f-0056-4c03-acae-c696a5694a2b"
      },
      "execution_count": 13,
      "outputs": [
        {
          "output_type": "stream",
          "name": "stderr",
          "text": [
            "Motorbikes             : 100%|\u001b[34m██████████████████████████████████████████\u001b[0m| 798/798 [00:00<00:00, 2000.62file/s]\u001b[0m\n",
            "airplanes              : 100%|\u001b[34m██████████████████████████████████████████\u001b[0m| 800/800 [00:00<00:00, 1525.42file/s]\u001b[0m\n",
            "schooner               : 100%|\u001b[34m████████████████████████████████████████████\u001b[0m| 63/63 [00:00<00:00, 1221.87file/s]\u001b[0m\n"
          ]
        },
        {
          "output_type": "stream",
          "name": "stdout",
          "text": [
            "number of classes in processed dataset=  3\n",
            "the maximum files in any class in train_df is  640   the minimum files in any class in train_df is  50\n",
            "train_df length:  1328   test_df length:  167   valid_df length:  166\n",
            "average image height=  167   average image width=  336  aspect ratio h/w=  0.49702380952380953\n"
          ]
        }
      ]
    },
    {
      "cell_type": "code",
      "source": [
        "\"\"\"\n",
        "The code in this cell and the next 2 cells is loosely based on the code in the following tutorial: \n",
        "https://colab.research.google.com/github/lmoroney/dlaicourse/blob/master/Course%202%20-%20Part%208%20-%20Lesson%202%20-%20Notebook%20(RockPaperScissors).ipynb#scrollTo=ZABJp7T3VLCU\n",
        "I say loosely based because while I learned the essence of how to set up, compile and fit the model from this tutorial it would not have worked for the problem I am trying to solve,\n",
        "I had to learn what all the code, parameters and hyperparamters meant from documentation and tutorials (that I've linked in my blog post) and then write code that would actually work for \n",
        "my particular problem. Therefore these next few cells are where most of my unique contributions are. \n",
        "\"\"\"\n",
        "#Rescaling images\n",
        "train_datagen = ImageDataGenerator(rescale= 1.0/255)\n",
        "test_datagen = ImageDataGenerator(rescale= 1.0/255)\n",
        "valid_datagen = ImageDataGenerator(rescale= 1.0/255) \n",
        "\n",
        "#Generating batches of images for training, validation, and testing along with their labels to be fed into the neural net\n",
        "#Read documentation on .flow_from_dataframe() from tensorflow website: https://www.tensorflow.org/api_docs/python/tf/keras/preprocessing/image/ImageDataGenerator#flow_from_dataframe\n",
        "train_data = train_datagen.flow_from_dataframe(train_df, x_col = \"filepaths\", y_col = \"labels\", batch_size =50, class_mode= \"categorical\", target_size = (224,224))\n",
        "test_data = test_datagen.flow_from_dataframe(test_df, x_col = \"filepaths\", y_col = \"labels\", batch_size =50, class_mode= \"categorical\", target_size = (224,224))\n",
        "valid_data = valid_datagen.flow_from_dataframe(valid_df, x_col = \"filepaths\", y_col = \"labels\", batch_size =50, class_mode= \"categorical\", target_size = (224,224))"
      ],
      "metadata": {
        "colab": {
          "base_uri": "https://localhost:8080/"
        },
        "id": "G3BQc579CQc8",
        "outputId": "bf02e712-5ab1-4df1-f388-cdb3578d6fa6"
      },
      "execution_count": 17,
      "outputs": [
        {
          "output_type": "stream",
          "name": "stdout",
          "text": [
            "Found 1328 validated image filenames belonging to 3 classes.\n",
            "Found 167 validated image filenames belonging to 3 classes.\n",
            "Found 166 validated image filenames belonging to 3 classes.\n"
          ]
        }
      ]
    },
    {
      "cell_type": "markdown",
      "source": [
        "# Building and Compiling and Running the Neural Net\n",
        "\n"
      ],
      "metadata": {
        "id": "tTqxKmstu9KP"
      }
    },
    {
      "cell_type": "code",
      "source": [
        "#Building the model\n",
        "model = tf.keras.models.Sequential([\n",
        "    \n",
        "    #First convolution Layer\n",
        "    tf.keras.layers.Conv2D(16, (3,3), activation= \"relu\", input_shape= (224,224,3)),\n",
        "    tf.keras.layers.MaxPooling2D(2,2),\n",
        "\n",
        "    #Second convolution layer\n",
        "    tf.keras.layers.Conv2D(32, (3,3), activation= \"relu\"),\n",
        "    tf.keras.layers.MaxPooling2D(2,2),\n",
        "\n",
        "    #Flattening to feed into DNN\n",
        "    tf.keras.layers.Flatten(),\n",
        "\n",
        "    #Hidden Layer with 512 neurons\n",
        "    tf.keras.layers.Dense(512, activation= 'relu'),\n",
        "\n",
        "    #Output layer\n",
        "    tf.keras.layers.Dense(3, activation= 'softmax')\n",
        "\n",
        "    ])\n",
        "\n",
        "model.compile(loss= \"mean_squared_error\", optimizer= RMSprop(lr=0.001), metrics = [\"acc\"])\n"
      ],
      "metadata": {
        "id": "AaElm8ECAWOe"
      },
      "execution_count": 103,
      "outputs": []
    },
    {
      "cell_type": "code",
      "source": [
        "#Fitting the model\n",
        "history = model.fit(train_data, \n",
        "                    epochs = 20, \n",
        "                    steps_per_epoch = 5, \n",
        "                    validation_data = valid_data, \n",
        "                    validation_steps = 2)"
      ],
      "metadata": {
        "colab": {
          "base_uri": "https://localhost:8080/"
        },
        "id": "scHeY9dYOxO9",
        "outputId": "92770e3b-947c-42c1-b99d-f1a7f5a9cc68"
      },
      "execution_count": 104,
      "outputs": [
        {
          "output_type": "stream",
          "name": "stdout",
          "text": [
            "Epoch 1/20\n",
            "5/5 [==============================] - 9s 2s/step - loss: 0.2638 - acc: 0.5360 - val_loss: 0.3400 - val_acc: 0.4900\n",
            "Epoch 2/20\n",
            "5/5 [==============================] - 8s 2s/step - loss: 0.3680 - acc: 0.4480 - val_loss: 0.3533 - val_acc: 0.4700\n",
            "Epoch 3/20\n",
            "5/5 [==============================] - 8s 2s/step - loss: 0.3280 - acc: 0.5080 - val_loss: 0.3333 - val_acc: 0.5000\n",
            "Epoch 4/20\n",
            "5/5 [==============================] - 8s 2s/step - loss: 0.3787 - acc: 0.4320 - val_loss: 0.3533 - val_acc: 0.4700\n",
            "Epoch 5/20\n",
            "5/5 [==============================] - 7s 2s/step - loss: 0.3713 - acc: 0.4430 - val_loss: 0.3000 - val_acc: 0.5500\n",
            "Epoch 6/20\n",
            "5/5 [==============================] - 8s 2s/step - loss: 0.3627 - acc: 0.4560 - val_loss: 0.3600 - val_acc: 0.4600\n",
            "Epoch 7/20\n",
            "5/5 [==============================] - 7s 1s/step - loss: 0.3392 - acc: 0.4912 - val_loss: 0.3600 - val_acc: 0.4600\n",
            "Epoch 8/20\n",
            "5/5 [==============================] - 8s 2s/step - loss: 0.3307 - acc: 0.5040 - val_loss: 0.3467 - val_acc: 0.4800\n",
            "Epoch 9/20\n",
            "5/5 [==============================] - 8s 2s/step - loss: 0.3493 - acc: 0.4760 - val_loss: 0.4000 - val_acc: 0.4000\n",
            "Epoch 10/20\n",
            "5/5 [==============================] - 7s 1s/step - loss: 0.3392 - acc: 0.4912 - val_loss: 0.3333 - val_acc: 0.5000\n",
            "Epoch 11/20\n",
            "5/5 [==============================] - 8s 2s/step - loss: 0.3360 - acc: 0.4960 - val_loss: 0.3333 - val_acc: 0.5000\n",
            "Epoch 12/20\n",
            "5/5 [==============================] - 9s 2s/step - loss: 0.3520 - acc: 0.4720 - val_loss: 0.3200 - val_acc: 0.5200\n",
            "Epoch 13/20\n",
            "5/5 [==============================] - 7s 2s/step - loss: 0.3158 - acc: 0.5263 - val_loss: 0.3467 - val_acc: 0.4800\n",
            "Epoch 14/20\n",
            "5/5 [==============================] - 8s 2s/step - loss: 0.3920 - acc: 0.4120 - val_loss: 0.3467 - val_acc: 0.4800\n",
            "Epoch 15/20\n",
            "5/5 [==============================] - 8s 2s/step - loss: 0.3920 - acc: 0.4120 - val_loss: 0.3667 - val_acc: 0.4500\n",
            "Epoch 16/20\n",
            "5/5 [==============================] - 8s 2s/step - loss: 0.3520 - acc: 0.4720 - val_loss: 0.3467 - val_acc: 0.4800\n",
            "Epoch 17/20\n",
            "5/5 [==============================] - 8s 2s/step - loss: 0.3280 - acc: 0.5080 - val_loss: 0.3400 - val_acc: 0.4900\n",
            "Epoch 18/20\n",
            "5/5 [==============================] - 8s 2s/step - loss: 0.3360 - acc: 0.4960 - val_loss: 0.3667 - val_acc: 0.4500\n",
            "Epoch 19/20\n",
            "5/5 [==============================] - 8s 2s/step - loss: 0.3707 - acc: 0.4440 - val_loss: 0.3133 - val_acc: 0.5300\n",
            "Epoch 20/20\n",
            "5/5 [==============================] - 8s 2s/step - loss: 0.3227 - acc: 0.5160 - val_loss: 0.3400 - val_acc: 0.4900\n"
          ]
        }
      ]
    },
    {
      "cell_type": "markdown",
      "source": [
        "# Graphing the Accuracy and Loss of the Classifier"
      ],
      "metadata": {
        "id": "Qc9XxNfVoXgp"
      }
    },
    {
      "cell_type": "code",
      "source": [
        "'''\n",
        "The basics of the code for creating graphs of the training and validation accuracy per epoch came from the following tutorial provided by Google:\n",
        " https://colab.research.google.com/github/lmoroney/mlday-tokyo/blob/master/Lab6-Cats-v-Dogs.ipynb#scrollTo=dn-6c02VmqiN\n",
        " I added to the code to make the graphs more descriptive.\n",
        "'''\n",
        "\n",
        "# Retrieve a list of list results on training and test datasets for each training epoch\n",
        "acc=history.history['acc']\n",
        "val_acc=history.history['val_acc']\n",
        "loss=history.history['loss']\n",
        "val_loss=history.history['val_loss']\n",
        "\n",
        "# Get number of epochs\n",
        "epochs= range(len(acc)) \n",
        "\n",
        "# Plot training and validation accuracy per epoch\n",
        "plt.plot(epochs, acc, 'r', label = \"Training Accuracy\")\n",
        "plt.plot(epochs, val_acc, 'b', label = \"Validation Accuracy\")\n",
        "plt.title('Training and validation accuracy per epoch')\n",
        "plt.legend(loc= 2)\n",
        "plt.figure\n",
        "plt.show()\n",
        "\n",
        "print(\" \")   #Inserting a space between plots\n",
        "\n",
        "# Plot training and validation loss per epoch\n",
        "plt.plot(epochs, loss, 'r', label = \"Training Loss\")\n",
        "plt.plot(epochs, val_loss, 'b', label =  \"Validation Loss\")\n",
        "plt.title('Training and validation loss per epoch')\n",
        "plt.legend(loc= 0)\n",
        "plt.figure()\n",
        "plt.show()"
      ],
      "metadata": {
        "colab": {
          "base_uri": "https://localhost:8080/",
          "height": 580
        },
        "id": "hh9LYgc5TIbx",
        "outputId": "6c9be470-f54f-424e-ec88-1948efc39cf7"
      },
      "execution_count": 105,
      "outputs": [
        {
          "output_type": "display_data",
          "data": {
            "text/plain": [
              "<Figure size 432x288 with 1 Axes>"
            ],
            "image/png": "[encoded data removed]"
          },
          "metadata": {
            "needs_background": "light"
          }
        },
        {
          "output_type": "stream",
          "name": "stdout",
          "text": [
            " \n"
          ]
        },
        {
          "output_type": "display_data",
          "data": {
            "text/plain": [
              "<Figure size 432x288 with 1 Axes>"
            ],
            "image/png": "[encoded data removed]"
          },
          "metadata": {
            "needs_background": "light"
          }
        },
        {
          "output_type": "display_data",
          "data": {
            "text/plain": [
              "<Figure size 432x288 with 0 Axes>"
            ]
          },
          "metadata": {}
        }
      ]
    },
    {
      "cell_type": "markdown",
      "source": [
        "# IMPORTANT NOTE: The code from here on out is the basically the same as the last three blocks above, the only difference is that now I will be fine tuning parameters and hyperparameters to increase the accuracy of my model (that is why I am not linking to references in the following code blocks because they have all been covered in the previous code blocks."
      ],
      "metadata": {
        "id": "cCsB5VRxN_qo"
      }
    },
    {
      "cell_type": "markdown",
      "source": [
        "# Second Run: Adding two layers to neural net, decreasing epochs, increasing steps per epoch and validation steps"
      ],
      "metadata": {
        "id": "C5OiemEFiRhr"
      }
    },
    {
      "cell_type": "code",
      "source": [
        "model = tf.keras.models.Sequential([\n",
        "    #First convolution Layer\n",
        "    tf.keras.layers.Conv2D(16, (3,3), activation= \"relu\", input_shape= (224,224,3)),\n",
        "    tf.keras.layers.MaxPooling2D(2,2),\n",
        "\n",
        "    #Second convolution layer\n",
        "    tf.keras.layers.Conv2D(32, (3,3), activation= \"relu\"),\n",
        "    tf.keras.layers.MaxPooling2D(2,2),\n",
        "\n",
        "    #Third convolution layer\n",
        "    tf.keras.layers.Conv2D(64, (3,3), activation= \"relu\"),\n",
        "    tf.keras.layers.MaxPooling2D(2,2),\n",
        "\n",
        "    #Fourth convolution layer\n",
        "    tf.keras.layers.Conv2D(128, (3,3), activation= \"relu\"),\n",
        "    tf.keras.layers.MaxPooling2D(2,2),\n",
        "\n",
        "    #Flattening to feed into DNN\n",
        "    tf.keras.layers.Flatten(),\n",
        "\n",
        "    #Hidden Layer with 512 neurons\n",
        "    tf.keras.layers.Dense(512, activation= 'relu'),\n",
        "\n",
        "    #\n",
        "    tf.keras.layers.Dense(3, activation= 'softmax')\n",
        "\n",
        "    ])\n",
        "\n",
        "model.compile(loss= \"mean_squared_error\", optimizer= RMSprop(lr=0.001), metrics = [\"acc\"])"
      ],
      "metadata": {
        "id": "COFSjiwPiQOJ"
      },
      "execution_count": 91,
      "outputs": []
    },
    {
      "cell_type": "code",
      "source": [
        "history = model.fit(train_data, \n",
        "                    epochs = 15, \n",
        "                    steps_per_epoch = 10, \n",
        "                    validation_data = valid_data, \n",
        "                    validation_steps = 3)"
      ],
      "metadata": {
        "colab": {
          "base_uri": "https://localhost:8080/"
        },
        "id": "9KHDTghFiSBs",
        "outputId": "c0c1926a-eb1d-45c5-a608-30888af94ef1"
      },
      "execution_count": 92,
      "outputs": [
        {
          "output_type": "stream",
          "name": "stdout",
          "text": [
            "Epoch 1/15\n",
            "10/10 [==============================] - 19s 2s/step - loss: 0.2385 - acc: 0.5160 - val_loss: 0.1113 - val_acc: 0.8533\n",
            "Epoch 2/15\n",
            "10/10 [==============================] - 17s 2s/step - loss: 0.3379 - acc: 0.4800 - val_loss: 0.3422 - val_acc: 0.4867\n",
            "Epoch 3/15\n",
            "10/10 [==============================] - 17s 2s/step - loss: 0.3467 - acc: 0.4800 - val_loss: 0.3467 - val_acc: 0.4800\n",
            "Epoch 4/15\n",
            "10/10 [==============================] - 16s 2s/step - loss: 0.3291 - acc: 0.5063 - val_loss: 0.3467 - val_acc: 0.4800\n",
            "Epoch 5/15\n",
            "10/10 [==============================] - 17s 2s/step - loss: 0.3667 - acc: 0.4500 - val_loss: 0.3378 - val_acc: 0.4933\n",
            "Epoch 6/15\n",
            "10/10 [==============================] - 17s 2s/step - loss: 0.3520 - acc: 0.4720 - val_loss: 0.3467 - val_acc: 0.4800\n",
            "Epoch 7/15\n",
            "10/10 [==============================] - 16s 2s/step - loss: 0.3017 - acc: 0.5418 - val_loss: 0.2810 - val_acc: 0.4933\n",
            "Epoch 8/15\n",
            "10/10 [==============================] - 17s 2s/step - loss: 0.1183 - acc: 0.8040 - val_loss: 0.0424 - val_acc: 0.9400\n",
            "Epoch 9/15\n",
            "10/10 [==============================] - 17s 2s/step - loss: 0.0379 - acc: 0.9340 - val_loss: 0.0227 - val_acc: 0.9600\n",
            "Epoch 10/15\n",
            "10/10 [==============================] - 18s 2s/step - loss: 0.0336 - acc: 0.9400 - val_loss: 0.0185 - val_acc: 0.9533\n",
            "Epoch 11/15\n",
            "10/10 [==============================] - 17s 2s/step - loss: 0.0223 - acc: 0.9620 - val_loss: 0.0157 - val_acc: 0.9667\n",
            "Epoch 12/15\n",
            "10/10 [==============================] - 16s 2s/step - loss: 0.0177 - acc: 0.9603 - val_loss: 0.0125 - val_acc: 0.9867\n",
            "Epoch 13/15\n",
            "10/10 [==============================] - 16s 2s/step - loss: 0.0187 - acc: 0.9665 - val_loss: 0.0102 - val_acc: 0.9867\n",
            "Epoch 14/15\n",
            "10/10 [==============================] - 18s 2s/step - loss: 0.0153 - acc: 0.9680 - val_loss: 0.0135 - val_acc: 0.9733\n",
            "Epoch 15/15\n",
            "10/10 [==============================] - 17s 2s/step - loss: 0.0050 - acc: 0.9900 - val_loss: 0.0121 - val_acc: 0.9800\n"
          ]
        }
      ]
    },
    {
      "cell_type": "code",
      "source": [
        "# Retrieve a list of list results on training and test datasets for each training epoch\n",
        "acc=history.history['acc']\n",
        "val_acc=history.history['val_acc']\n",
        "loss=history.history['loss']\n",
        "val_loss=history.history['val_loss']\n",
        "\n",
        "# Get number of epochs\n",
        "epochs= range(len(acc)) \n",
        "\n",
        "# Plot training and validation accuracy per epoch\n",
        "plt.plot(epochs, acc, 'r', label = \"Training Accuracy\")\n",
        "plt.plot(epochs, val_acc, 'b', label = \"Validation Accuracy\")\n",
        "plt.title('Training and validation accuracy per epoch')\n",
        "plt.legend(loc= 2)\n",
        "plt.figure\n",
        "plt.show()\n",
        "\n",
        "print(\" \")   #Inserting a space between plots\n",
        "\n",
        "# Plot training and validation loss per epoch\n",
        "plt.plot(epochs, loss, 'r', label = \"Training Loss\")\n",
        "plt.plot(epochs, val_loss, 'b', label =  \"Validation Loss\")\n",
        "plt.title('Training and validation loss per epoch')\n",
        "plt.legend(loc= 0)\n",
        "plt.figure()\n",
        "plt.show()"
      ],
      "metadata": {
        "colab": {
          "base_uri": "https://localhost:8080/",
          "height": 580
        },
        "id": "TFmuHnwkiQrI",
        "outputId": "3b773744-3b1d-4e86-bb3b-417ee752765d"
      },
      "execution_count": 99,
      "outputs": [
        {
          "output_type": "display_data",
          "data": {
            "text/plain": [
              "<Figure size 432x288 with 1 Axes>"
            ],
            "image/png": "[encoded data removed]"
          },
          "metadata": {
            "needs_background": "light"
          }
        },
        {
          "output_type": "stream",
          "name": "stdout",
          "text": [
            " \n"
          ]
        },
        {
          "output_type": "display_data",
          "data": {
            "text/plain": [
              "<Figure size 432x288 with 1 Axes>"
            ],
            "image/png": "[encoded data removed]"
          },
          "metadata": {
            "needs_background": "light"
          }
        },
        {
          "output_type": "display_data",
          "data": {
            "text/plain": [
              "<Figure size 432x288 with 0 Axes>"
            ]
          },
          "metadata": {}
        }
      ]
    },
    {
      "cell_type": "markdown",
      "source": [
        "# Third Run: Regularizing neural net with dropout\n"
      ],
      "metadata": {
        "id": "SVLt6Xgzuvbo"
      }
    },
    {
      "cell_type": "code",
      "source": [
        "model = tf.keras.models.Sequential([\n",
        "    #First convolution Layer\n",
        "    tf.keras.layers.Conv2D(16, (3,3), activation= \"relu\", input_shape= (224,224,3)),\n",
        "    tf.keras.layers.MaxPooling2D(2,2),\n",
        "\n",
        "    #Second convolution layer\n",
        "    tf.keras.layers.Conv2D(32, (3,3), activation= \"relu\"),\n",
        "    tf.keras.layers.MaxPooling2D(2,2),\n",
        "\n",
        "    #Third convolution layer\n",
        "    tf.keras.layers.Conv2D(64, (3,3), activation= \"relu\"),\n",
        "    tf.keras.layers.MaxPooling2D(2,2),\n",
        "\n",
        "    #Fourth convolution layer\n",
        "    tf.keras.layers.Conv2D(128, (3,3), activation= \"relu\"),\n",
        "    tf.keras.layers.MaxPooling2D(2,2),\n",
        "\n",
        "    #Flattening to feed into DNN\n",
        "    tf.keras.layers.Flatten(),\n",
        "    tf.keras.layers.Dropout(0.5),\n",
        "\n",
        "    #Hidden Layer with 512 neurons\n",
        "    tf.keras.layers.Dense(512, activation= 'relu'),\n",
        "\n",
        "    #Output Layer\n",
        "    tf.keras.layers.Dense(3, activation= 'softmax')\n",
        "\n",
        "    ])\n",
        "\n",
        "model.compile(loss= \"mean_squared_error\", optimizer= RMSprop(lr=0.001), metrics = [\"acc\"])"
      ],
      "metadata": {
        "id": "lbDLhxrKuyzL",
        "colab": {
          "base_uri": "https://localhost:8080/"
        },
        "outputId": "a6d95c97-c1eb-4f1b-bdbd-e5e1a59c8fe2"
      },
      "execution_count": 100,
      "outputs": [
        {
          "output_type": "stream",
          "name": "stderr",
          "text": [
            "/usr/local/lib/python3.7/dist-packages/keras/optimizers/optimizer_v2/rmsprop.py:135: UserWarning: The `lr` argument is deprecated, use `learning_rate` instead.\n",
            "  super(RMSprop, self).__init__(name, **kwargs)\n"
          ]
        }
      ]
    },
    {
      "cell_type": "code",
      "source": [
        "history = model.fit(train_data, \n",
        "                    epochs = 15, \n",
        "                    steps_per_epoch = 10, \n",
        "                    validation_data = valid_data, \n",
        "                    validation_steps = 3)"
      ],
      "metadata": {
        "colab": {
          "base_uri": "https://localhost:8080/"
        },
        "id": "G0mKPzbtaBpW",
        "outputId": "efbc31ac-5a52-4a88-b4c6-4429c89c0360"
      },
      "execution_count": 101,
      "outputs": [
        {
          "output_type": "stream",
          "name": "stdout",
          "text": [
            "Epoch 1/15\n",
            "10/10 [==============================] - 17s 2s/step - loss: 0.3425 - acc: 0.4372 - val_loss: 0.3422 - val_acc: 0.4867\n",
            "Epoch 2/15\n",
            "10/10 [==============================] - 17s 2s/step - loss: 0.3452 - acc: 0.4728 - val_loss: 0.3556 - val_acc: 0.4667\n",
            "Epoch 3/15\n",
            "10/10 [==============================] - 17s 2s/step - loss: 0.3587 - acc: 0.4620 - val_loss: 0.3600 - val_acc: 0.4600\n",
            "Epoch 4/15\n",
            "10/10 [==============================] - 17s 2s/step - loss: 0.3235 - acc: 0.4895 - val_loss: 0.2889 - val_acc: 0.4800\n",
            "Epoch 5/15\n",
            "10/10 [==============================] - 18s 2s/step - loss: 0.3147 - acc: 0.3940 - val_loss: 0.2774 - val_acc: 0.4733\n",
            "Epoch 6/15\n",
            "10/10 [==============================] - 17s 2s/step - loss: 0.2251 - acc: 0.5740 - val_loss: 0.1589 - val_acc: 0.9133\n",
            "Epoch 7/15\n",
            "10/10 [==============================] - 17s 2s/step - loss: 0.1516 - acc: 0.6960 - val_loss: 0.1744 - val_acc: 0.5467\n",
            "Epoch 8/15\n",
            "10/10 [==============================] - 17s 2s/step - loss: 0.0650 - acc: 0.8840 - val_loss: 0.0235 - val_acc: 0.9467\n",
            "Epoch 9/15\n",
            "10/10 [==============================] - 16s 2s/step - loss: 0.0540 - acc: 0.8787 - val_loss: 0.0245 - val_acc: 0.9467\n",
            "Epoch 10/15\n",
            "10/10 [==============================] - 16s 2s/step - loss: 0.0266 - acc: 0.9498 - val_loss: 0.0146 - val_acc: 0.9667\n",
            "Epoch 11/15\n",
            "10/10 [==============================] - 17s 2s/step - loss: 0.0240 - acc: 0.9520 - val_loss: 0.0285 - val_acc: 0.9533\n",
            "Epoch 12/15\n",
            "10/10 [==============================] - 16s 2s/step - loss: 0.0256 - acc: 0.9498 - val_loss: 0.0113 - val_acc: 0.9733\n",
            "Epoch 13/15\n",
            "10/10 [==============================] - 17s 2s/step - loss: 0.0174 - acc: 0.9700 - val_loss: 0.0076 - val_acc: 0.9867\n",
            "Epoch 14/15\n",
            "10/10 [==============================] - 18s 2s/step - loss: 0.0267 - acc: 0.9560 - val_loss: 0.0130 - val_acc: 0.9800\n",
            "Epoch 15/15\n",
            "10/10 [==============================] - 17s 2s/step - loss: 0.0095 - acc: 0.9860 - val_loss: 0.0178 - val_acc: 0.9600\n"
          ]
        }
      ]
    },
    {
      "cell_type": "code",
      "source": [
        "# Retrieve a list of list results on training and test datasets for each training epoch\n",
        "acc=history.history['acc']\n",
        "val_acc=history.history['val_acc']\n",
        "loss=history.history['loss']\n",
        "val_loss=history.history['val_loss']\n",
        "\n",
        "# Get number of epochs\n",
        "epochs= range(len(acc)) \n",
        "\n",
        "# Plot training and validation accuracy per epoch\n",
        "plt.plot(epochs, acc, 'r',label = \"Training Accuracy\")\n",
        "plt.plot(epochs, val_acc, 'b',label =  \"Validation Accuracy\")\n",
        "plt.title('Training and validation accuracy per epoch')\n",
        "plt.legend(loc= 2)\n",
        "plt.figure()\n",
        "plt.show()\n",
        "\n",
        "# Plot training and validation loss per epoch\n",
        "plt.plot(epochs, loss, 'r', label = \"Training Loss\")\n",
        "plt.plot(epochs, val_loss, 'b', label = \"Validation Loss\")\n",
        "plt.title('Training and validation loss per epoch')\n",
        "plt.figure()\n",
        "plt.show()"
      ],
      "metadata": {
        "colab": {
          "base_uri": "https://localhost:8080/",
          "height": 580
        },
        "id": "WBt7wgn2aY-d",
        "outputId": "b9501114-28d9-43ee-f76b-3ad6b10a3ff1"
      },
      "execution_count": 102,
      "outputs": [
        {
          "output_type": "display_data",
          "data": {
            "text/plain": [
              "<Figure size 432x288 with 1 Axes>"
            ],
            "image/png": "[encoded data removed]"
          },
          "metadata": {
            "needs_background": "light"
          }
        },
        {
          "output_type": "display_data",
          "data": {
            "text/plain": [
              "<Figure size 432x288 with 0 Axes>"
            ]
          },
          "metadata": {}
        },
        {
          "output_type": "display_data",
          "data": {
            "text/plain": [
              "<Figure size 432x288 with 1 Axes>"
            ],
            "image/png": "[encoded data removed]"
          },
          "metadata": {
            "needs_background": "light"
          }
        },
        {
          "output_type": "display_data",
          "data": {
            "text/plain": [
              "<Figure size 432x288 with 0 Axes>"
            ]
          },
          "metadata": {}
        }
      ]
    }
  ]
}